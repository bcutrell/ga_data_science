{
 "metadata": {
  "name": "",
  "signature": "sha256:7096206acf52cb23de26fdc3325a2611e2dcc8ee7ceb9a7642ea732eb7980ed9"
 },
 "nbformat": 3,
 "nbformat_minor": 0,
 "worksheets": [
  {
   "cells": [
    {
     "cell_type": "code",
     "collapsed": false,
     "input": [
      "%pylab inline"
     ],
     "language": "python",
     "metadata": {},
     "outputs": []
    },
    {
     "cell_type": "markdown",
     "metadata": {},
     "source": [
      "##Statsmodels\n",
      "\n",
      "Statsmodels is a relatively new package, but provides better utilities for investigating the results of a model.  It uses Patsy to provide R formula syntax\n",
      "\n",
      "A formula allows you to write a functional relationship between variables.  \n",
      "Example:\n",
      "```R\n",
      "Y ~ X1 + X2 + X3\n",
      "```\n",
      "\n",
      "It automatically assumes there is an intercept term. You can make this explicit by using\n",
      "\n",
      "```R\n",
      "Y ~ 1 + X1 + X2 + X3\n",
      "```\n",
      "\n",
      "As you can see + is not acting as an addition operator but as a separator between other variables. There are other operators that lose their algebraic meaning in a formula. : adds the interaction of two variables. * adds the original terms as well as their interaction effect."
     ]
    },
    {
     "cell_type": "code",
     "collapsed": false,
     "input": [
      "import statsmodels.formula.api as sm\n",
      "import pandas as pd\n",
      "\n",
      "data = pd.read_csv(\"http://data.princeton.edu/wws509/datasets/salary.dat\", sep='\\s+')\n",
      "\n",
      "model = sm.ols(formula=\"sl ~ yr\", data=data).fit()\n",
      "model.summary()"
     ],
     "language": "python",
     "metadata": {},
     "outputs": []
    },
    {
     "cell_type": "code",
     "collapsed": false,
     "input": [
      "model = sm.ols(formula=\"sl ~ sx + yr + rk\", data=data).fit()\n",
      "model.summary()"
     ],
     "language": "python",
     "metadata": {},
     "outputs": []
    },
    {
     "cell_type": "code",
     "collapsed": false,
     "input": [
      "from patsy import dmatrices\n",
      "\n",
      "y, X = dmatrices('sl ~ sx + yr + rk', data=data, return_type='dataframe')\n",
      "X"
     ],
     "language": "python",
     "metadata": {},
     "outputs": []
    },
    {
     "cell_type": "markdown",
     "metadata": {},
     "source": [
      "###Data Exploration\n",
      "Try plotting several of the fields from your dmatrices call to get a feel for which variables have predictive value."
     ]
    },
    {
     "cell_type": "code",
     "collapsed": false,
     "input": [
      "import numpy as np\n",
      "import pylab as pl\n",
      "pl.scatter(X['yr'], y, color='black')\n",
      "pl.show()"
     ],
     "language": "python",
     "metadata": {},
     "outputs": []
    },
    {
     "cell_type": "code",
     "collapsed": false,
     "input": [
      "pl.scatter(X['sx[T.male]'], y, color='red')\n",
      "pl.show()"
     ],
     "language": "python",
     "metadata": {},
     "outputs": []
    },
    {
     "cell_type": "code",
     "collapsed": false,
     "input": [
      "pl.scatter(X['rk[T.associate]'], y, color='blue')\n",
      "pl.show()"
     ],
     "language": "python",
     "metadata": {},
     "outputs": []
    },
    {
     "cell_type": "code",
     "collapsed": false,
     "input": [
      "pl.scatter(X['rk[T.full]'], y, color='green')\n",
      "pl.show()"
     ],
     "language": "python",
     "metadata": {},
     "outputs": []
    },
    {
     "cell_type": "markdown",
     "metadata": {},
     "source": [
      "##Sklearn\n",
      "\n",
      "Scikits-learn also offer the same, but also provides regularization operations and more robust methods.\n"
     ]
    },
    {
     "cell_type": "code",
     "collapsed": false,
     "input": [
      "from sklearn.linear_model import LinearRegression\n",
      "\n",
      "y, X = dmatrices('sl ~ yr', data=data, return_type='dataframe')\n",
      "model = LinearRegression()\n",
      "model = model.fit(X,y)\n",
      "model.score(X,y)"
     ],
     "language": "python",
     "metadata": {},
     "outputs": []
    },
    {
     "cell_type": "markdown",
     "metadata": {},
     "source": [
      "Visualize how well our year-only model does in prediction:"
     ]
    },
    {
     "cell_type": "code",
     "collapsed": false,
     "input": [
      "pl.scatter(X['yr'], y, color='black')\n",
      "pl.plot(X['yr'], model.predict(X), color='blue', linewidth=3)\n",
      "pl.xticks(())\n",
      "pl.yticks(())\n",
      "\n",
      "pl.show()"
     ],
     "language": "python",
     "metadata": {},
     "outputs": []
    },
    {
     "cell_type": "code",
     "collapsed": false,
     "input": [
      "y, X = dmatrices('sl ~ sx + yr + rk', data=data, return_type='dataframe')\n",
      "model = LinearRegression()\n",
      "model = model.fit(X,y)\n",
      "model.score(X,y)"
     ],
     "language": "python",
     "metadata": {},
     "outputs": []
    },
    {
     "cell_type": "code",
     "collapsed": false,
     "input": [
      "from sklearn import linear_model\n",
      "\n",
      "model = linear_model.Ridge(alpha = .5)\n",
      "model.fit(X,y)\n",
      "\n",
      "print model.coef_"
     ],
     "language": "python",
     "metadata": {},
     "outputs": []
    },
    {
     "cell_type": "code",
     "collapsed": false,
     "input": [
      "from sklearn import linear_model\n",
      "\n",
      "model = linear_model.RidgeCV(alphas=[0.1, 1.0, 10.0])\n",
      "model.fit(X,y)\n",
      "\n",
      "print model.coef_\n",
      "print model.alpha_"
     ],
     "language": "python",
     "metadata": {},
     "outputs": []
    },
    {
     "cell_type": "markdown",
     "metadata": {},
     "source": [
      "###Clinton Polling Data\n",
      "On your own, perform the same types of operations to find your best possible regression model for the \"U.S. County Vote for Clinton 1992 & Demographics\" poll data from [here](\"http://www.stat.ufl.edu/~winner/datasets.html\").\n",
      "\n",
      "Work with your partner iteratively visualizing and evaluating different variables/models, best model wins!"
     ]
    }
   ],
   "metadata": {}
  }
 ]
}