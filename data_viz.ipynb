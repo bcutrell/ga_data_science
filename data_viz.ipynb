{
 "metadata": {
  "name": "",
  "signature": "sha256:4acb74d2ddf0b183af122ce019844967f2dfbb8dd9df986a2bee83afadb77cca"
 },
 "nbformat": 3,
 "nbformat_minor": 0,
 "worksheets": [
  {
   "cells": [
    {
     "cell_type": "code",
     "collapsed": false,
     "input": [
      "%pylab inline"
     ],
     "language": "python",
     "metadata": {},
     "outputs": [
      {
       "output_type": "stream",
       "stream": "stdout",
       "text": [
        "Populating the interactive namespace from numpy and matplotlib\n"
       ]
      }
     ],
     "prompt_number": 1
    },
    {
     "cell_type": "code",
     "collapsed": false,
     "input": [
      "import pandas as pd\n",
      "\n",
      "#master = pd.read_csv('Downloads/lahman-csv_2013-12-10/Master.csv')\n",
      "#salaries = pd.read_csv('Downloads/lahman-csv_2013-12-10/Salaries.csv')\n",
      "master = pd.read_csv('/Users/pburkard88/Documents/General Assembly/Data Science/Summer \\'14/Lessons/Lesson 2/lahman-csv_2014-02-14/Master.csv')\n",
      "salaries = pd.read_csv('/Users/pburkard88/Documents/General Assembly/Data Science/Summer \\'14/Lessons/Lesson 2/lahman-csv_2014-02-14/Salaries.csv')"
     ],
     "language": "python",
     "metadata": {},
     "outputs": [],
     "prompt_number": 2
    },
    {
     "cell_type": "raw",
     "metadata": {},
     "source": [
      "I just loaded in two files. Awesome.  Now let's take some notes!"
     ]
    },
    {
     "cell_type": "markdown",
     "metadata": {},
     "source": [
      "#This is a title\n",
      "##Subtitle\n",
      "\n",
      "1. This is item 1\n",
      "2. This is item 2"
     ]
    },
    {
     "cell_type": "code",
     "collapsed": false,
     "input": [
      "master_salaries = master.merge(salaries, on='playerID')\n",
      "master_salaries.head()"
     ],
     "language": "python",
     "metadata": {},
     "outputs": [
      {
       "html": [
        "<div style=\"max-height:1000px;max-width:1500px;overflow:auto;\">\n",
        "<table border=\"1\" class=\"dataframe\">\n",
        "  <thead>\n",
        "    <tr style=\"text-align: right;\">\n",
        "      <th></th>\n",
        "      <th>playerID</th>\n",
        "      <th>birthYear</th>\n",
        "      <th>birthMonth</th>\n",
        "      <th>birthDay</th>\n",
        "      <th>birthCountry</th>\n",
        "      <th>birthState</th>\n",
        "      <th>birthCity</th>\n",
        "      <th>deathYear</th>\n",
        "      <th>deathMonth</th>\n",
        "      <th>deathDay</th>\n",
        "      <th>...</th>\n",
        "      <th>bats</th>\n",
        "      <th>throws</th>\n",
        "      <th>debut</th>\n",
        "      <th>finalGame</th>\n",
        "      <th>retroID</th>\n",
        "      <th>bbrefID</th>\n",
        "      <th>yearID</th>\n",
        "      <th>teamID</th>\n",
        "      <th>lgID</th>\n",
        "      <th>salary</th>\n",
        "    </tr>\n",
        "  </thead>\n",
        "  <tbody>\n",
        "    <tr>\n",
        "      <th>0</th>\n",
        "      <td> aardsda01</td>\n",
        "      <td> 1981</td>\n",
        "      <td> 12</td>\n",
        "      <td> 27</td>\n",
        "      <td> USA</td>\n",
        "      <td> CO</td>\n",
        "      <td> Denver</td>\n",
        "      <td>NaN</td>\n",
        "      <td>NaN</td>\n",
        "      <td>NaN</td>\n",
        "      <td>...</td>\n",
        "      <td> R</td>\n",
        "      <td> R</td>\n",
        "      <td> 2004-04-06</td>\n",
        "      <td> 2013-09-28</td>\n",
        "      <td> aardd001</td>\n",
        "      <td> aardsda01</td>\n",
        "      <td> 2004</td>\n",
        "      <td> SFN</td>\n",
        "      <td> NL</td>\n",
        "      <td>  300000</td>\n",
        "    </tr>\n",
        "    <tr>\n",
        "      <th>1</th>\n",
        "      <td> aardsda01</td>\n",
        "      <td> 1981</td>\n",
        "      <td> 12</td>\n",
        "      <td> 27</td>\n",
        "      <td> USA</td>\n",
        "      <td> CO</td>\n",
        "      <td> Denver</td>\n",
        "      <td>NaN</td>\n",
        "      <td>NaN</td>\n",
        "      <td>NaN</td>\n",
        "      <td>...</td>\n",
        "      <td> R</td>\n",
        "      <td> R</td>\n",
        "      <td> 2004-04-06</td>\n",
        "      <td> 2013-09-28</td>\n",
        "      <td> aardd001</td>\n",
        "      <td> aardsda01</td>\n",
        "      <td> 2007</td>\n",
        "      <td> CHA</td>\n",
        "      <td> AL</td>\n",
        "      <td>  387500</td>\n",
        "    </tr>\n",
        "    <tr>\n",
        "      <th>2</th>\n",
        "      <td> aardsda01</td>\n",
        "      <td> 1981</td>\n",
        "      <td> 12</td>\n",
        "      <td> 27</td>\n",
        "      <td> USA</td>\n",
        "      <td> CO</td>\n",
        "      <td> Denver</td>\n",
        "      <td>NaN</td>\n",
        "      <td>NaN</td>\n",
        "      <td>NaN</td>\n",
        "      <td>...</td>\n",
        "      <td> R</td>\n",
        "      <td> R</td>\n",
        "      <td> 2004-04-06</td>\n",
        "      <td> 2013-09-28</td>\n",
        "      <td> aardd001</td>\n",
        "      <td> aardsda01</td>\n",
        "      <td> 2008</td>\n",
        "      <td> BOS</td>\n",
        "      <td> AL</td>\n",
        "      <td>  403250</td>\n",
        "    </tr>\n",
        "    <tr>\n",
        "      <th>3</th>\n",
        "      <td> aardsda01</td>\n",
        "      <td> 1981</td>\n",
        "      <td> 12</td>\n",
        "      <td> 27</td>\n",
        "      <td> USA</td>\n",
        "      <td> CO</td>\n",
        "      <td> Denver</td>\n",
        "      <td>NaN</td>\n",
        "      <td>NaN</td>\n",
        "      <td>NaN</td>\n",
        "      <td>...</td>\n",
        "      <td> R</td>\n",
        "      <td> R</td>\n",
        "      <td> 2004-04-06</td>\n",
        "      <td> 2013-09-28</td>\n",
        "      <td> aardd001</td>\n",
        "      <td> aardsda01</td>\n",
        "      <td> 2009</td>\n",
        "      <td> SEA</td>\n",
        "      <td> AL</td>\n",
        "      <td>  419000</td>\n",
        "    </tr>\n",
        "    <tr>\n",
        "      <th>4</th>\n",
        "      <td> aardsda01</td>\n",
        "      <td> 1981</td>\n",
        "      <td> 12</td>\n",
        "      <td> 27</td>\n",
        "      <td> USA</td>\n",
        "      <td> CO</td>\n",
        "      <td> Denver</td>\n",
        "      <td>NaN</td>\n",
        "      <td>NaN</td>\n",
        "      <td>NaN</td>\n",
        "      <td>...</td>\n",
        "      <td> R</td>\n",
        "      <td> R</td>\n",
        "      <td> 2004-04-06</td>\n",
        "      <td> 2013-09-28</td>\n",
        "      <td> aardd001</td>\n",
        "      <td> aardsda01</td>\n",
        "      <td> 2010</td>\n",
        "      <td> SEA</td>\n",
        "      <td> AL</td>\n",
        "      <td> 2750000</td>\n",
        "    </tr>\n",
        "  </tbody>\n",
        "</table>\n",
        "<p>5 rows \u00d7 28 columns</p>\n",
        "</div>"
       ],
       "metadata": {},
       "output_type": "pyout",
       "prompt_number": 3,
       "text": [
        "    playerID  birthYear  birthMonth  birthDay birthCountry birthState  \\\n",
        "0  aardsda01       1981          12        27          USA         CO   \n",
        "1  aardsda01       1981          12        27          USA         CO   \n",
        "2  aardsda01       1981          12        27          USA         CO   \n",
        "3  aardsda01       1981          12        27          USA         CO   \n",
        "4  aardsda01       1981          12        27          USA         CO   \n",
        "\n",
        "  birthCity  deathYear  deathMonth  deathDay    ...    bats throws  \\\n",
        "0    Denver        NaN         NaN       NaN    ...       R      R   \n",
        "1    Denver        NaN         NaN       NaN    ...       R      R   \n",
        "2    Denver        NaN         NaN       NaN    ...       R      R   \n",
        "3    Denver        NaN         NaN       NaN    ...       R      R   \n",
        "4    Denver        NaN         NaN       NaN    ...       R      R   \n",
        "\n",
        "        debut   finalGame   retroID    bbrefID  yearID  teamID lgID   salary  \n",
        "0  2004-04-06  2013-09-28  aardd001  aardsda01    2004     SFN   NL   300000  \n",
        "1  2004-04-06  2013-09-28  aardd001  aardsda01    2007     CHA   AL   387500  \n",
        "2  2004-04-06  2013-09-28  aardd001  aardsda01    2008     BOS   AL   403250  \n",
        "3  2004-04-06  2013-09-28  aardd001  aardsda01    2009     SEA   AL   419000  \n",
        "4  2004-04-06  2013-09-28  aardd001  aardsda01    2010     SEA   AL  2750000  \n",
        "\n",
        "[5 rows x 28 columns]"
       ]
      }
     ],
     "prompt_number": 3
    },
    {
     "cell_type": "code",
     "collapsed": false,
     "input": [
      "plt.hist(master_salaries.salary,)\n",
      "plt.title(\"Distribution of Salaries\")\n",
      "plt.xlabel(\"Salaries\")\n",
      "plt.ylabel(\"Count of Players\")"
     ],
     "language": "python",
     "metadata": {},
     "outputs": [
      {
       "metadata": {},
       "output_type": "pyout",
       "prompt_number": 4,
       "text": [
        "<matplotlib.text.Text at 0x1076552d0>"
       ]
      },
      {
       "metadata": {},
       "output_type": "display_data",
       "png": "[encoded data removed]",
       "text": [
        "<matplotlib.figure.Figure at 0x107694dd0>"
       ]
      }
     ],
     "prompt_number": 4
    },
    {
     "cell_type": "code",
     "collapsed": false,
     "input": [
      "player_stats = master_salaries.groupby(['nameFirst', 'nameLast','playerID']).salary.mean()\n",
      "\n"
     ],
     "language": "python",
     "metadata": {},
     "outputs": [],
     "prompt_number": 5
    },
    {
     "cell_type": "code",
     "collapsed": false,
     "input": [
      "batting = pd.read_csv('/Users/pburkard88/Documents/General Assembly/Data Science/Summer \\'14/Lessons/Lesson 2/lahman-csv_2014-02-14/Batting.csv')\n",
      "\n",
      "player_stats = master_salaries.merge(batting, on='playerID')\n"
     ],
     "language": "python",
     "metadata": {},
     "outputs": [],
     "prompt_number": 6
    },
    {
     "cell_type": "code",
     "collapsed": false,
     "input": [
      "hr_salaries = player_stats.groupby('HR').RBI.mean()\n"
     ],
     "language": "python",
     "metadata": {},
     "outputs": [],
     "prompt_number": 7
    },
    {
     "cell_type": "code",
     "collapsed": false,
     "input": [
      "import vincent\n",
      "vincent.core.initialize_notebook()"
     ],
     "language": "python",
     "metadata": {},
     "outputs": [
      {
       "html": [
        "\n",
        "           <script>\n",
        "               \n",
        "                function vct_load_lib(url, callback){\n",
        "                      if(typeof d3 !== 'undefined' &&\n",
        "                         url === 'http://d3js.org/d3.v3.min.js'){\n",
        "                        callback()\n",
        "                      }\n",
        "                      var s = document.createElement('script');\n",
        "                      s.src = url;\n",
        "                      s.async = true;\n",
        "                      s.onreadystatechange = s.onload = callback;\n",
        "                      s.onerror = function(){\n",
        "                        console.warn(\"failed to load library \" + url);\n",
        "                        };\n",
        "                      document.getElementsByTagName(\"head\")[0].appendChild(s);\n",
        "                };\n",
        "                var vincent_event = new CustomEvent(\n",
        "                  \"vincent_libs_loaded\",\n",
        "                  {bubbles: true, cancelable: true}\n",
        "                );\n",
        "                \n",
        "               function load_all_libs(){\n",
        "                  console.log('Loading Vincent libs...')\n",
        "                  vct_load_lib('http://d3js.org/d3.v3.min.js', function(){\n",
        "                  vct_load_lib('http://d3js.org/d3.geo.projection.v0.min.js', function(){\n",
        "                  vct_load_lib('http://wrobstory.github.io/d3-cloud/d3.layout.cloud.js', function(){\n",
        "                  vct_load_lib('http://wrobstory.github.io/vega/vega.v1.3.3.js', function(){\n",
        "                  window.dispatchEvent(vincent_event);\n",
        "                  });\n",
        "                  });\n",
        "                  });\n",
        "                  });\n",
        "               };\n",
        "               if(typeof define === \"function\" && define.amd){\n",
        "                    if (window['d3'] === undefined ||\n",
        "                        window['topojson'] === undefined){\n",
        "                        require.config(\n",
        "                            {paths: {\n",
        "                              d3: 'http://d3js.org/d3.v3.min',\n",
        "                              topojson: 'http://d3js.org/topojson.v1.min'\n",
        "                              }\n",
        "                            }\n",
        "                          );\n",
        "                        require([\"d3\"], function(d3){\n",
        "                            console.log('Loading Vincent from require.js...')\n",
        "                            window.d3 = d3;\n",
        "                            require([\"topojson\"], function(topojson){\n",
        "                                window.topojson = topojson;\n",
        "                                load_all_libs();\n",
        "                            });\n",
        "                        });\n",
        "                    } else {\n",
        "                        load_all_libs();\n",
        "                    };\n",
        "               }else{\n",
        "                    console.log('Require.js not found, loading manually...')\n",
        "                    load_all_libs();\n",
        "               };\n",
        "\n",
        "           </script>"
       ],
       "metadata": {},
       "output_type": "display_data",
       "text": [
        "<IPython.core.display.HTML at 0x108213810>"
       ]
      }
     ],
     "prompt_number": 8
    },
    {
     "cell_type": "code",
     "collapsed": false,
     "input": [
      "plot = vincent.Scatter(hr_salaries)\n",
      "plot.display()\n"
     ],
     "language": "python",
     "metadata": {},
     "outputs": [
      {
       "ename": "NameError",
       "evalue": "name 'vincent' is not defined",
       "output_type": "pyerr",
       "traceback": [
        "\u001b[0;31m---------------------------------------------------------------------------\u001b[0m\n\u001b[0;31mNameError\u001b[0m                                 Traceback (most recent call last)",
        "\u001b[0;32m<ipython-input-1-f85d37cd38d7>\u001b[0m in \u001b[0;36m<module>\u001b[0;34m()\u001b[0m\n\u001b[0;32m----> 1\u001b[0;31m \u001b[0mplot\u001b[0m \u001b[0;34m=\u001b[0m \u001b[0mvincent\u001b[0m\u001b[0;34m.\u001b[0m\u001b[0mScatter\u001b[0m\u001b[0;34m(\u001b[0m\u001b[0mhr_salaries\u001b[0m\u001b[0;34m)\u001b[0m\u001b[0;34m\u001b[0m\u001b[0m\n\u001b[0m\u001b[1;32m      2\u001b[0m \u001b[0mplot\u001b[0m\u001b[0;34m.\u001b[0m\u001b[0mdisplay\u001b[0m\u001b[0;34m(\u001b[0m\u001b[0;34m)\u001b[0m\u001b[0;34m\u001b[0m\u001b[0m\n",
        "\u001b[0;31mNameError\u001b[0m: name 'vincent' is not defined"
       ]
      }
     ],
     "prompt_number": 1
    },
    {
     "cell_type": "code",
     "collapsed": false,
     "input": [
      "`"
     ],
     "language": "python",
     "metadata": {},
     "outputs": []
    }
   ],
   "metadata": {}
  }
 ]
}