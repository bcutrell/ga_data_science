{
 "metadata": {
  "name": "",
  "signature": "sha256:b12664ea77d744752d1674c46a57350caf0c575e8e806ebd9259a1b22f5e31dc"
 },
 "nbformat": 3,
 "nbformat_minor": 0,
 "worksheets": [
  {
   "cells": [
    {
     "cell_type": "markdown",
     "metadata": {},
     "source": [
      "###Face Recognition example using eigenfaces and SVMs\n",
      "The dataset used in this example is a preprocessed excerpt of the\n",
      "\"Labeled Faces in the Wild\", aka LFW_:\n",
      "\n",
      "  http://vis-www.cs.umass.edu/lfw/lfw-funneled.tgz (233MB)\n",
      "\n",
      ".. _LFW: http://vis-www.cs.umass.edu/lfw/\n",
      "\n",
      "Expected results for the top 5 most represented people in the dataset::\n",
      "\n",
      "                     precision    recall  f1-score   support\n",
      "\n",
      "  Gerhard_Schroeder       0.91      0.75      0.82        28\n",
      "    Donald_Rumsfeld       0.84      0.82      0.83        33\n",
      "         Tony_Blair       0.65      0.82      0.73        34\n",
      "       Colin_Powell       0.78      0.88      0.83        58\n",
      "      George_W_Bush       0.93      0.86      0.90       129\n",
      "\n",
      "        avg / total       0.86      0.84      0.85       282"
     ]
    },
    {
     "cell_type": "code",
     "collapsed": false,
     "input": [
      "# Import necessary packages\n",
      "\n",
      "%pylab inline\n",
      "from time import time\n",
      "import logging\n",
      "import pylab as pl\n",
      "\n",
      "from sklearn.cross_validation import train_test_split\n",
      "from sklearn.datasets import fetch_lfw_people\n",
      "from sklearn.grid_search import GridSearchCV\n",
      "from sklearn.metrics import classification_report\n",
      "from sklearn.metrics import confusion_matrix\n",
      "from sklearn.decomposition import RandomizedPCA\n",
      "from sklearn.svm import SVC"
     ],
     "language": "python",
     "metadata": {},
     "outputs": [],
     "prompt_number": 1
    },
    {
     "cell_type": "code",
     "collapsed": false,
     "input": [
      "# Configure logging\n",
      "logging.basicConfig(level=logging.INFO, format='%(asctime)s %(message)s')"
     ],
     "language": "python",
     "metadata": {},
     "outputs": [],
     "prompt_number": 2
    },
    {
     "cell_type": "code",
     "collapsed": false,
     "input": [
      "''' Download the lfw data via the fetch_lfw_people function (if not \n",
      "already on disk and load it as numpy arrays\n",
      "- Use min_faces_per_person=70, data_home=., resize=.4)'''\n",
      "#lfw_people = ?"
     ],
     "language": "python",
     "metadata": {},
     "outputs": [],
     "prompt_number": 3
    },
    {
     "cell_type": "code",
     "collapsed": false,
     "input": [
      "# introspect the images arrays to find the shapes (for plotting)\n",
      "n_samples, h, w = lfw_people.images.shape\n",
      "print lfw_people.images.shape"
     ],
     "language": "python",
     "metadata": {},
     "outputs": [
      {
       "output_type": "stream",
       "stream": "stdout",
       "text": [
        "(1288, 50, 37)\n"
       ]
      }
     ],
     "prompt_number": 4
    },
    {
     "cell_type": "code",
     "collapsed": false,
     "input": [
      "# for machine learning we use the 2 data directly (as relative pixel\n",
      "# positions info is ignored by this model)\n",
      "X = lfw_people.data\n",
      "print X\n",
      "n_features = X.shape[1]\n",
      "print n_features"
     ],
     "language": "python",
     "metadata": {},
     "outputs": [
      {
       "output_type": "stream",
       "stream": "stdout",
       "text": [
        "[[ 253.66667175  254.66667175  253.33332825 ...,   88.66666412\n",
        "    88.33333588   90.33333588]\n",
        " [  42.           31.66666603   52.66666794 ...,  124.66666412\n",
        "   117.33333588  110.        ]\n",
        " [  94.           74.          106.         ...,  136.33332825  185.\n",
        "   184.33332825]\n",
        " ..., \n",
        " [  84.33333588   84.33333588   76.         ...,   39.66666794   43.\n",
        "    57.66666794]\n",
        " [  49.66666794   47.66666794   72.         ...,  206.          191.\n",
        "   168.33332825]\n",
        " [  31.33333397   25.66666603   25.66666603 ...,   23.66666603   25.\n",
        "    36.66666794]]\n",
        "1850\n"
       ]
      }
     ],
     "prompt_number": 5
    },
    {
     "cell_type": "code",
     "collapsed": false,
     "input": [
      "# the label to predict is the id of the person\n",
      "# y is the target variable (int representing class)\n",
      "# target_names are the corresponding person names for the classes\n",
      "#y = lfw_people.???\n",
      "#print y\n",
      "#target_names = lfw_people.???\n",
      "#print target_names\n",
      "#n_classes = target_names.shape[0]"
     ],
     "language": "python",
     "metadata": {},
     "outputs": [
      {
       "output_type": "stream",
       "stream": "stdout",
       "text": [
        "[5 6 3 ..., 5 3 5]\n",
        "['Ariel Sharon' 'Colin Powell' 'Donald Rumsfeld' 'George W Bush'\n",
        " 'Gerhard Schroeder' 'Hugo Chavez' 'Tony Blair']\n"
       ]
      }
     ],
     "prompt_number": 6
    },
    {
     "cell_type": "code",
     "collapsed": false,
     "input": [
      "print \"Total dataset size:\"\n",
      "print \"n_samples: %d\" % n_samples\n",
      "print \"n_features: %d\" % n_features\n",
      "print \"n_classes: %d\" % n_classes"
     ],
     "language": "python",
     "metadata": {},
     "outputs": [
      {
       "output_type": "stream",
       "stream": "stdout",
       "text": [
        "Total dataset size:\n",
        "n_samples: 1288\n",
        "n_features: 1850\n",
        "n_classes: 7\n"
       ]
      }
     ],
     "prompt_number": 7
    },
    {
     "cell_type": "code",
     "collapsed": false,
     "input": [
      "# split into a training and testing set using train_test_split\n",
      "#X_train, X_test, y_train, y_test = ???"
     ],
     "language": "python",
     "metadata": {},
     "outputs": [],
     "prompt_number": 8
    },
    {
     "cell_type": "code",
     "collapsed": false,
     "input": [
      "# Compute a PCA (eigenfaces) on the face dataset (treated as unlabeled\n",
      "# dataset): unsupervised feature extraction / dimensionality reduction\n",
      "n_components = 150\n",
      "\n",
      "print \"Extracting the top %d eigenfaces from %d faces\" % (\n",
      "    n_components, X_train.shape[0])\n",
      "t0 = time()\n",
      "# pca should be a RandomizedPCA with n_components and whiten=True and then call fit to train it on X_train\n",
      "#pca = ???\n",
      "print \"done in %0.3fs\" % (time() - t0)\n",
      "\n",
      "eigenfaces = pca.components_.reshape((n_components, h, w))\n",
      "print eigenfaces\n",
      "\n",
      "print \"Projecting the input data on the eigenfaces orthonormal basis\"\n",
      "t0 = time()\n",
      "# Create new training and test X matrices in the pca space using pca.transform()\n",
      "#X_train_pca = ???\n",
      "#X_test_pca = ???\n",
      "print \"done in %0.3fs\" % (time() - t0)"
     ],
     "language": "python",
     "metadata": {},
     "outputs": [
      {
       "output_type": "stream",
       "stream": "stdout",
       "text": [
        "Extracting the top 150 eigenfaces from 966 faces\n",
        "done in 0.270s"
       ]
      },
      {
       "output_type": "stream",
       "stream": "stdout",
       "text": [
        "\n",
        "[[[  1.41471294e-06   3.96862230e-06   4.11359573e-06 ...,   2.04919135e-05\n",
        "     1.71785601e-05   1.65644528e-05]\n",
        "  [  1.76859124e-06   3.36303216e-06   4.58321553e-06 ...,   2.16094965e-05\n",
        "     1.83098917e-05   1.79612624e-05]\n",
        "  [  2.91113228e-06   4.84676153e-06   5.14960965e-06 ...,   2.27605572e-05\n",
        "     1.95083535e-05   1.90387716e-05]\n",
        "  ..., \n",
        "  [ -1.11297009e-05  -1.13295220e-05  -1.02756943e-05 ...,   2.90431860e-05\n",
        "     2.84985731e-05   2.35725044e-05]\n",
        "  [ -1.09228160e-05  -1.07636850e-05  -9.52270902e-06 ...,   3.09223961e-05\n",
        "     2.81209143e-05   2.23206490e-05]\n",
        "  [ -9.71947849e-06  -9.94643556e-06  -8.88653571e-06 ...,   3.01657968e-05\n",
        "     2.58385069e-05   2.07788008e-05]]\n",
        "\n",
        " [[  4.37146986e-05   4.06578127e-05   3.86615121e-05 ...,  -3.06824778e-05\n",
        "    -3.34230086e-05  -3.30359122e-05]\n",
        "  [  4.23175441e-05   4.05963092e-05   4.07310867e-05 ...,  -3.19429337e-05\n",
        "    -3.36333974e-05  -3.30407275e-05]\n",
        "  [  4.37448355e-05   4.17189495e-05   4.44014182e-05 ...,  -3.34440086e-05\n",
        "    -3.38715416e-05  -3.55452079e-05]\n",
        "  ..., \n",
        "  [  5.15520018e-05   5.88289555e-05   6.65847788e-05 ...,  -6.09519465e-05\n",
        "    -6.33820495e-05  -5.87152028e-05]\n",
        "  [  5.01960551e-05   5.75698784e-05   6.56675571e-05 ...,  -6.37423170e-05\n",
        "    -6.19708461e-05  -5.74263734e-05]\n",
        "  [  4.89945475e-05   5.76626288e-05   6.53654708e-05 ...,  -6.10524711e-05\n",
        "    -5.79796021e-05  -5.71471224e-05]]\n",
        "\n",
        " [[  6.75247269e-05   6.23236919e-05   5.64488509e-05 ...,   8.16652448e-05\n",
        "     8.19301856e-05   8.64718966e-05]\n",
        "  [  6.42903314e-05   6.02530173e-05   5.32547428e-05 ...,   7.86315943e-05\n",
        "     7.96755553e-05   8.22577811e-05]\n",
        "  [  6.29853735e-05   5.97461723e-05   4.81853932e-05 ...,   7.83434317e-05\n",
        "     7.69291085e-05   7.93530930e-05]\n",
        "  ..., \n",
        "  [  1.52207302e-04   1.57347485e-04   1.61141004e-04 ...,   1.07215521e-04\n",
        "     1.02818630e-04   9.13544970e-05]\n",
        "  [  1.38638778e-04   1.37567756e-04   1.42696618e-04 ...,   1.03313768e-04\n",
        "     9.68580919e-05   8.44903145e-05]\n",
        "  [  1.15924823e-04   1.19908816e-04   1.28606681e-04 ...,   9.87784048e-05\n",
        "     9.10324482e-05   7.61457712e-05]]\n",
        "\n",
        " ..., \n",
        " [[  1.64616904e-04  -2.42026249e-05   2.32741207e-04 ...,   1.11115776e-03\n",
        "     1.79730897e-04   3.54654001e-04]\n",
        "  [  3.23329045e-04   1.92720866e-04   4.66842031e-04 ...,   8.64869364e-04\n",
        "    -1.36644809e-04  -3.82033181e-05]\n",
        "  [  3.11537957e-04   3.36342105e-04   3.14323333e-04 ...,   2.72638099e-04\n",
        "    -4.10114357e-05  -4.28852706e-04]\n",
        "  ..., \n",
        "  [ -1.77204936e-03  -2.91854642e-05   1.20090326e-03 ...,  -6.43020583e-04\n",
        "     5.33228696e-04  -3.34214887e-04]\n",
        "  [ -4.68846787e-04   6.45698252e-04   1.58038818e-03 ...,  -1.61063472e-05\n",
        "     1.21889357e-03  -1.03782391e-03]\n",
        "  [  5.73071328e-04   6.42898787e-04   8.68847216e-04 ...,   9.62365631e-04\n",
        "     2.62867524e-04  -1.34095953e-03]]\n",
        "\n",
        " [[ -8.56956896e-04   5.60545151e-04   1.30510378e-03 ...,  -1.56803308e-03\n",
        "     4.46829788e-04   1.31045498e-03]\n",
        "  [ -1.73962930e-04   5.14196028e-04   9.55896626e-04 ...,  -1.05683572e-03\n",
        "     3.80408296e-05   1.56573374e-03]\n",
        "  [ -1.83168873e-04   6.51545763e-04   3.26820350e-04 ...,  -3.26467199e-04\n",
        "    -2.89485405e-04   1.00357882e-03]\n",
        "  ..., \n",
        "  [  1.25457791e-04  -7.90482977e-04   6.76307430e-04 ...,   5.34971876e-04\n",
        "    -1.55303743e-03   4.73503230e-04]\n",
        "  [  1.12887997e-03  -1.16983466e-03  -1.67551133e-05 ...,  -7.33082558e-04\n",
        "    -1.25328326e-03   8.16757475e-04]\n",
        "  [  1.70582594e-03  -2.88134592e-04  -8.46834010e-04 ...,   7.27771625e-04\n",
        "     4.23551627e-05   8.09487106e-04]]\n",
        "\n",
        " [[ -7.32737141e-04  -5.99263170e-04  -1.69829069e-03 ...,  -2.98099172e-04\n",
        "    -8.44259624e-04  -8.39609680e-05]\n",
        "  [ -9.79746969e-04  -1.10112471e-03  -1.94403625e-03 ...,   6.87064985e-04\n",
        "    -1.82784080e-04   4.66855484e-05]\n",
        "  [ -9.19766744e-05  -3.03266992e-04  -1.56733306e-03 ...,   4.79805705e-04\n",
        "     7.00275250e-05   2.63814761e-04]\n",
        "  ..., \n",
        "  [  3.26793459e-04   7.11548634e-04  -4.36847755e-04 ...,   7.21502839e-04\n",
        "     8.52518944e-04   2.51945735e-04]\n",
        "  [ -1.46249758e-04   3.94238731e-04  -8.08100106e-04 ...,   2.26867159e-04\n",
        "    -4.74971486e-04  -6.99639776e-04]\n",
        "  [ -6.61178308e-04   1.08368312e-04  -5.80964323e-04 ...,  -8.44212564e-04\n",
        "    -1.39056534e-03  -1.28478522e-03]]]\n",
        "Projecting the input data on the eigenfaces orthonormal basis\n",
        "done in 0.038s\n"
       ]
      }
     ],
     "prompt_number": 9
    },
    {
     "cell_type": "code",
     "collapsed": false,
     "input": [
      "# Train a SVM classification model\n",
      "\n",
      "print \"Fitting the classifier to the training set\"\n",
      "t0 = time()\n",
      "param_grid = {'C': [1e3, 5e3, 1e4, 5e4, 1e5],\n",
      "              'gamma': [0.0001, 0.0005, 0.001, 0.005, 0.01, 0.1], }\n",
      "clf = GridSearchCV(SVC(kernel='rbf', class_weight='auto'), param_grid)\n",
      "clf = clf.fit(X_train_pca, y_train)\n",
      "print \"done in %0.3fs\" % (time() - t0)\n",
      "print \"Best estimator found by grid search:\"\n",
      "print clf.best_estimator_"
     ],
     "language": "python",
     "metadata": {},
     "outputs": [
      {
       "output_type": "stream",
       "stream": "stdout",
       "text": [
        "Fitting the classifier to the training set\n",
        "done in 16.285s"
       ]
      },
      {
       "output_type": "stream",
       "stream": "stdout",
       "text": [
        "\n",
        "Best estimator found by grid search:\n",
        "SVC(C=1000.0, cache_size=200, class_weight=auto, coef0=0.0, degree=3,\n",
        "  gamma=0.005, kernel=rbf, max_iter=-1, probability=False,\n",
        "  random_state=None, shrinking=True, tol=0.001, verbose=False)\n"
       ]
      }
     ],
     "prompt_number": 10
    },
    {
     "cell_type": "code",
     "collapsed": false,
     "input": [
      "# Quantitative evaluation of the model quality on the test set\n",
      "\n",
      "print \"Predicting the people names on the testing set\"\n",
      "t0 = time()\n",
      "y_pred = clf.predict(X_test_pca)\n",
      "print \"done in %0.3fs\" % (time() - t0)\n",
      "\n",
      "print classification_report(y_test, y_pred, target_names=target_names)\n",
      "print confusion_matrix(y_test, y_pred, labels=range(n_classes))"
     ],
     "language": "python",
     "metadata": {},
     "outputs": [
      {
       "output_type": "stream",
       "stream": "stdout",
       "text": [
        "Predicting the people names on the testing set\n",
        "done in 0.067s"
       ]
      },
      {
       "output_type": "stream",
       "stream": "stdout",
       "text": [
        "\n",
        "                   precision    recall  f1-score   support\n",
        "\n",
        "     Ariel Sharon       0.92      0.71      0.80        17\n",
        "     Colin Powell       0.78      0.93      0.85        57\n",
        "  Donald Rumsfeld       0.96      0.63      0.76        35\n",
        "    George W Bush       0.81      0.95      0.87       127\n",
        "Gerhard Schroeder       1.00      0.68      0.81        31\n",
        "      Hugo Chavez       1.00      0.57      0.73        14\n",
        "       Tony Blair       0.87      0.83      0.85        41\n",
        "\n",
        "      avg / total       0.86      0.84      0.84       322\n",
        "\n",
        "[[ 12   2   0   3   0   0   0]\n",
        " [  0  53   1   3   0   0   0]\n",
        " [  0   3  22   9   0   0   1]\n",
        " [  0   6   0 121   0   0   0]\n",
        " [  1   2   0   4  21   0   3]\n",
        " [  0   2   0   3   0   8   1]\n",
        " [  0   0   0   7   0   0  34]]\n"
       ]
      }
     ],
     "prompt_number": 12
    },
    {
     "cell_type": "code",
     "collapsed": false,
     "input": [
      "# Qualitative evaluation of the predictions using matplotlib\n",
      "\n",
      "def plot_gallery(images, titles, h, w, n_row=3, n_col=4):\n",
      "    \"\"\"Helper function to plot a gallery of portraits\"\"\"\n",
      "    pl.figure(figsize=(1.8 * n_col, 2.4 * n_row))\n",
      "    pl.subplots_adjust(bottom=0, left=.01, right=.99, top=.90, hspace=.35)\n",
      "    for i in range(n_row * n_col):\n",
      "        pl.subplot(n_row, n_col, i + 1)\n",
      "        pl.imshow(images[i].reshape((h, w)), cmap=pl.cm.gray)\n",
      "        pl.title(titles[i], size=12)\n",
      "        pl.xticks(())\n",
      "        pl.yticks(())\n",
      "\n",
      "\n",
      "# plot the result of the prediction on a portion of the test set\n",
      "\n",
      "def title(y_pred, y_test, target_names, i):\n",
      "    pred_name = target_names[y_pred[i]].rsplit(' ', 1)[-1]\n",
      "    true_name = target_names[y_test[i]].rsplit(' ', 1)[-1]\n",
      "    return 'predicted: %s\\ntrue:      %s' % (pred_name, true_name)\n",
      "\n",
      "prediction_titles = [title(y_pred, y_test, target_names, i)\n",
      "                     for i in range(y_pred.shape[0])]\n",
      "\n",
      "plot_gallery(X_test, prediction_titles, h, w)\n",
      "\n",
      "# plot the gallery of the most significant eigenfaces\n",
      "\n",
      "eigenface_titles = [\"eigenface %d\" % i for i in range(eigenfaces.shape[0])]\n",
      "plot_gallery(eigenfaces, eigenface_titles, h, w)\n",
      "\n",
      "pl.show()"
     ],
     "language": "python",
     "metadata": {},
     "outputs": []
    },
    {
     "cell_type": "code",
     "collapsed": false,
     "input": [],
     "language": "python",
     "metadata": {},
     "outputs": []
    }
   ],
   "metadata": {}
  }
 ]
}